{
 "cells": [
  {
   "cell_type": "markdown",
   "metadata": {},
   "source": [
    "<div style='text-align: center; font-family: \"Helvetica Neue\", Helvetica, Arial, sans-serif;'>\n",
    "  <span style='font-size: 40px;'>🚀</span>\n",
    "  <span style='font-weight: normal; font-size: 32px; color: #3AB77A;'>Desafio Creditas -</span>\n",
    "  <span style='font-weight: bold; font-size: 32px; color: #3AB77A;'> Cientista de Dados Pleno</span>\n",
    "</div>\n",
    "<div style='text-align: center; font-family: \"Helvetica Neue\", Helvetica, Arial, sans-serif;'>\n",
    "  <span style='font-weight: normal; font-size: 19px; color: #F;'>Etapa 4: Construção de features</span>\n",
    "</div>\n",
    "\n",
    "<br><br>\n",
    "\n",
    "<div style='color: #3AB77A; text-align: center; font-size: 28px; font-weight: bold'>\n",
    "  <p>\n",
    "    Conteúdo desse Notebook\n",
    "  </p>\n",
    "</div>\n",
    "<div style='text-align: center; font-size: 20px;'>\n",
    "  <span style='font-size: 20px;'>✅</span>\n",
    "  <span>Feature Engineering</p>\n",
    "</div>\n",
    "<div style='text-align: center; font-size: 20px;'>\n",
    "  <span style='font-size: 20px;'>✅</span>\n",
    "  <span>Apresentação da lógica de construção das features</p>\n",
    "</div>\n",
    "<div style='text-align: center; font-size: 20px;'>\n",
    "  <span style='font-size: 20px;'>✅</span>\n",
    "  <span>Normalização dos dados via arcsinh</p>\n",
    "</div>"
   ]
  },
  {
   "cell_type": "code",
   "execution_count": null,
   "metadata": {},
   "outputs": [
    {
     "name": "stdout",
     "output_type": "stream",
     "text": [
      "# Analisando a problematica dos dados #\n",
      "De todos os casos nessa base, reprovados temos 19820\n",
      "De todos os casos nessa base, pré-aprovado temos 14976\n",
      "Que realmente aprovamos para a analise de crédito foram 3262\n",
      "Que realmente reprovamos para a analise de crédito foram 11714\n"
     ]
    }
   ],
   "source": [
    "import pandas as pd\n",
    "import numpy as np\n",
    "import sys, os\n",
    "sys.path.insert(0, os.path.abspath(\"..\"))\n",
    "\n",
    "from utils.plot_utils import plotter as ptz\n",
    "\n",
    "pd.set_option('display.max_columns', 500)\n",
    "from utils.eda_utils import (\n",
    "    get_all_information,\n",
    "    StartEda\n",
    ")\n",
    "\n",
    "from utils.feature_utils import (\n",
    "    ModelUtils,\n",
    "    create_pipeline,\n",
    "    get_class\n",
    ")\n",
    "\n",
    "import warnings\n",
    "warnings.filterwarnings(\"ignore\")\n",
    "\n",
    "# Dessa vez utilizando a base bronze\n",
    "df = pd.read_csv('../data/bronze_dataset.csv')\n",
    "\n",
    "get_all_information(df=df, column_filter='pre_approved', column_target='sent_to_analysis')\n",
    "\n",
    "df = df[df['pre_approved'] == 1].drop(['pre_approved'],axis=1)\n",
    "\n",
    "# Realizando os processos de input de NA baseado na regra identificada anteriormente\n",
    "control = StartEda(df=df, direct_input_cols=['collateral_debt','informed_restriction'])\n",
    "df = control.df"
   ]
  },
  {
   "cell_type": "code",
   "execution_count": 2,
   "metadata": {},
   "outputs": [
    {
     "name": "stdout",
     "output_type": "stream",
     "text": [
      "Ignorando essas colunas tanto para OneHot quanto para Numerical: ['id', 'dishonored_checks', 'expired_debts', 'banking_debts', 'commercial_debts', 'protests', 'informed_restriction', 'form_completed', 'verified_restriction']\n",
      "['age', 'monthly_income', 'collateral_value', 'loan_amount', 'collateral_debt', 'monthly_payment', 'auto_year']\n",
      "['city', 'state', 'informed_purpose', 'auto_brand', 'auto_model', 'channel', 'zip_code', 'landing_page_product', 'gender', 'education_level']\n",
      "DataFrames criados sendo numericas:7, one_hot:10, ordinal:0\n",
      "Pipelines criados, criando of FeatureUnion\n",
      "[FeatureUnion] ...... (step 1 of 3) Processing pipe_num, total=   0.0s\n",
      "[FeatureUnion] ...... (step 2 of 3) Processing pipe_hot, total=   0.0s\n",
      "[FeatureUnion]  (step 3 of 3) Processing pipe_sem_mexer, total=   0.0s\n"
     ]
    }
   ],
   "source": [
    "columns_ignore= [\n",
    " 'id',\n",
    " 'dishonored_checks',\n",
    " 'expired_debts',\n",
    " 'banking_debts',\n",
    " 'commercial_debts',\n",
    " 'protests',\n",
    " 'informed_restriction',\n",
    " 'form_completed',\n",
    " 'verified_restriction'\n",
    "]\n",
    "\n",
    "columns_without = [\n",
    " 'dishonored_checks',\n",
    " 'expired_debts',\n",
    " 'banking_debts',\n",
    " 'commercial_debts',\n",
    " 'protests',\n",
    " 'informed_restriction',\n",
    " 'form_completed',\n",
    " 'verified_restriction',\n",
    " 'id'\n",
    "]\n",
    "\n",
    "object_preprocessing = ModelUtils(\n",
    "    df=df, \n",
    "    target='sent_to_analysis',\n",
    "    columns_ignore=columns_ignore, \n",
    "    columns_without=columns_without\n",
    ")\n",
    "X_train, y_train, X_test, y_test, X_val, y_val = object_preprocessing.train_test_val();\n",
    "\n",
    "pipe_prep = create_pipeline(\n",
    "    df=X_train,\n",
    "    columns_ignore=columns_ignore,\n",
    "    columns_include_without_transformation=columns_without,\n",
    "    ordinal_order=None,\n",
    "    numerical_scaler=None,\n",
    "    is_eda=True\n",
    ") ; pipe_prep[0]\n",
    "\n",
    "X_train_eda = pipe_prep[0].fit_transform(X_train)\n",
    "X_train_eda = pd.DataFrame(X_train_eda, \n",
    "                           columns=pipe_prep[1].tolist() + pipe_prep[2].tolist() + pipe_prep[3].tolist() + pipe_prep[4].tolist())\n",
    "\n",
    "X_train_eda['set'] = 'train'\n",
    "\n",
    "X_val_eda = pipe_prep[0].transform(X_val)\n",
    "X_val_eda = pd.DataFrame(X_val_eda, \n",
    "                         columns=pipe_prep[1].tolist() + pipe_prep[2].tolist() + pipe_prep[3].tolist() + pipe_prep[4].tolist())\n",
    "\n",
    "X_val_eda['set'] = 'val'\n",
    "\n",
    "X_eda = pd.concat([X_train_eda, X_val_eda],axis=0)\n",
    "\n",
    "for col in X_eda.columns:\n",
    "    if col in ['monthly_income', 'collateral_value', 'loan_amount', 'collateral_debt', 'monthly_payment']:\n",
    "        X_eda[col] = X_eda[col].astype('float64')\n",
    "    elif col in ['age','auto_year']:\n",
    "        X_eda[col] = X_eda[col].astype('int64')\n",
    "\n",
    "X_eda = X_eda.reset_index(drop=True)\n",
    "y_combined = pd.concat([y_train, y_val]).reset_index(drop=True)\n",
    "X_eda['target'] = y_combined        "
   ]
  },
  {
   "cell_type": "markdown",
   "metadata": {},
   "source": [
    "<br><br>\n",
    "\n",
    "<div style='text-align: center; font-family: \"Helvetica Neue\", Helvetica, Arial, sans-serif;'>\n",
    "  <span style='font-size: 30px;'>📊</span>\n",
    "  <span style='font-weight: bold; font-size: 32px; color: #3AB77A;'>Feature Engineering: Variáveis financeiras</span>\n",
    "</div>\n",
    "\n",
    "<br>\n",
    "\n",
    "<div style='text-align: center; font-family: \"Helvetica Neue\", Helvetica, Arial, sans-serif;'>\n",
    "  <span style='font-weight: bold; font-size: 25px; color: #8ADAB4;'>Contexto</span>\n",
    "</div>\n",
    "\n",
    "<p style='text-align: center; font-family: \"Helvetica Neue\", Helvetica, Arial, sans-serif; font-style: italic; color: #8ADAB4; font-size: 20px;'>\n",
    "  Construindo features financeiras\n",
    "</p>"
   ]
  },
  {
   "cell_type": "code",
   "execution_count": 3,
   "metadata": {},
   "outputs": [],
   "source": [
    "loan_percentile_75 = np.percentile(X_train['loan_amount'], 75)\n",
    "collateral_debt_percentile_50 = np.percentile(X_train['collateral_debt'], 50)\n",
    "collateral_value_percentile_50 = np.percentile(X_train['collateral_value'], 50)\n",
    "collateral_value_debt_percentile_50 = np.percentile(X_train['collateral_value'] + X_train['collateral_debt'], 50)"
   ]
  },
  {
   "cell_type": "code",
   "execution_count": 13,
   "metadata": {},
   "outputs": [
    {
     "name": "stdout",
     "output_type": "stream",
     "text": [
      "18715.05 0.0 23000.0 24649.0\n"
     ]
    }
   ],
   "source": [
    "print(\n",
    "    loan_percentile_75,\n",
    "    collateral_debt_percentile_50,\n",
    "    collateral_value_percentile_50,\n",
    "    collateral_value_debt_percentile_50\n",
    ")"
   ]
  },
  {
   "cell_type": "code",
   "execution_count": 4,
   "metadata": {},
   "outputs": [],
   "source": [
    "# QtdSalariosMinimos para diminuir\n",
    "X_eda['QtdSalariosMinimos'] = X_eda.apply(lambda x: x['monthly_income']/1512, axis=1)\n",
    "X_eda['ValorGarantiaRealAuto'] = X_eda.apply(lambda x: x['collateral_value'] - x['collateral_debt'],axis=1)\n",
    "X_eda['PropLoanGarantiaVeiculo'] = X_eda.apply(lambda x: x['loan_amount']/x['collateral_value'] if x['collateral_value'] > 0 else -1,axis=1)\n",
    "X_eda['PropLoanReal'] = X_eda.apply(lambda x: x['loan_amount']/x['ValorGarantiaRealAuto'] if x['ValorGarantiaRealAuto'] > 0 else -1,axis=1)\n",
    "X_eda['PropLoanMonthlyIncome'] = X_eda.apply(lambda x: x['loan_amount']/x['monthly_income'] if x['monthly_income'] > 0 else -1,axis=1)\n",
    "\n",
    "# Monthly_payment\n",
    "X_eda['PropVlrParcelaMensal'] = X_eda.apply(lambda x: x['monthly_payment']/x['monthly_income'] if x['monthly_income'] > 0 else -1,axis=1)\n",
    "X_eda['PropMonthyPaymentLoan'] = X_eda.apply(lambda x: x['monthly_payment']/x['loan_amount'] if x['loan_amount'] > 0 else -1,axis=1)\n",
    "X_eda['PropLoanCollateral'] = X_eda.apply(lambda x: \n",
    "                                          ((x['loan_amount'] + x['collateral_debt'])/(x['monthly_income']*12)) \n",
    "                                          if x['monthly_income'] > 0 else -1,axis=1)\n",
    "\n",
    "X_eda['PropDebtIncome'] = X_eda.apply(lambda x: x['collateral_debt']/x['monthly_income'] if x['monthly_income'] > 0 else -1,axis=1)\n",
    "X_eda['PropDebtValue'] = X_eda.apply(lambda x: x['collateral_debt']/x['collateral_value'] if x['collateral_value'] > 0 else -1,axis=1)\n",
    "X_eda['PropValueIncome'] = X_eda.apply(lambda x: x['collateral_value']/x['monthly_income'] if x['monthly_income'] > 0 else -1,axis=1)\n",
    "X_eda['isLoanAbove75Percent'] = X_eda.apply(lambda x: x['loan_amount']/loan_percentile_75, axis=1)\n",
    "X_eda['isValueAbove50Percent'] = X_eda.apply(lambda x: x['collateral_value']/collateral_value_percentile_50, axis=1)\n",
    "X_eda['isRealAbove50Percent'] = X_eda.apply(lambda x: (x['collateral_value']-x['collateral_debt'])/collateral_value_debt_percentile_50, axis=1)\n",
    "X_eda['IdadeCarro'] = X_eda.apply(lambda x: 2025 - x['auto_year'], axis=1)"
   ]
  },
  {
   "cell_type": "markdown",
   "metadata": {},
   "source": [
    "<br><br>\n",
    "\n",
    "<div style='text-align: center; font-family: \"Helvetica Neue\", Helvetica, Arial, sans-serif;'>\n",
    "  <span style='font-size: 30px;'>📊</span>\n",
    "  <span style='font-weight: bold; font-size: 32px; color: #3AB77A;'>Feature Engineering: Variáveis categorias</span>\n",
    "</div>\n",
    "\n",
    "<br>\n",
    "\n",
    "<div style='text-align: center; font-family: \"Helvetica Neue\", Helvetica, Arial, sans-serif;'>\n",
    "  <span style='font-weight: bold; font-size: 25px; color: #8ADAB4;'>Contexto</span>\n",
    "</div>\n",
    "\n",
    "<p style='text-align: center; font-family: \"Helvetica Neue\", Helvetica, Arial, sans-serif; font-style: italic; color: #8ADAB4; font-size: 20px;'>\n",
    "  Construindo features categoricas\n",
    "</p>"
   ]
  },
  {
   "cell_type": "code",
   "execution_count": 5,
   "metadata": {},
   "outputs": [],
   "source": [
    "df_get_info = X_train\n",
    "df_get_info['target'] = y_train\n",
    "df_get_info['IdadeCarro'] = df_get_info.apply(lambda x: 2025 - x['auto_year'], axis=1)\n",
    "df_get_info['ValorGarantiaRealAuto'] = df_get_info.apply(lambda x: x['collateral_value'] - x['collateral_debt'],axis=1)\n",
    "df_get_info['PropLoanReal'] = df_get_info.apply(lambda x: x['loan_amount']/x['ValorGarantiaRealAuto'] if x['ValorGarantiaRealAuto'] > 0 else -1,axis=1)\n",
    "\n",
    "df_get_info_apply = df_get_info.query(\"target == 1\").groupby('auto_brand').agg(\n",
    "    mean_prop_loan_real=('PropLoanReal', 'mean'),\n",
    "    mean_idade_carro=('IdadeCarro', 'mean'),\n",
    "    mean_garantia_real=('ValorGarantiaRealAuto','mean')\n",
    ").reset_index()\n",
    "\n",
    "mean_prop_loan_real = dict(df_get_info_apply[['auto_brand','mean_prop_loan_real']].values)\n",
    "mean_idade_carro = dict(df_get_info_apply[['auto_brand','mean_idade_carro']].values)\n",
    "mean_garantia_real = dict(df_get_info_apply[['auto_brand','mean_garantia_real']].values)"
   ]
  },
  {
   "cell_type": "code",
   "execution_count": 7,
   "metadata": {},
   "outputs": [
    {
     "name": "stdout",
     "output_type": "stream",
     "text": [
      "{'Audi': 0.5435041518531529, 'BMW': 0.6749623561854194, 'CHERY': 0.6897570873602265, 'Chrysler': 0.4123482363127069, 'Citroën': 0.6756302083270017, 'Dodge': 0.26666222229629505, 'EFFA': 0.6185311945899138, 'Fiat': 0.6486340387776122, 'Ford': 0.6401095169912144, 'GM - Chevrolet': 0.6334866105581304, 'Honda': 0.6349733319293591, 'Hyundai': 0.6938826536151933, 'JAC': 0.7141756574248197, 'Jeep': 0.2624990625117186, 'Kia Motors': 0.6225978540650665, 'LIFAN': 0.8991976390297888, 'Land Rover': 0.6807848531285194, 'Mercedes-Benz': 0.701994051784246, 'Mitsubishi': 0.6432847897291576, 'Nissan': 21.170642894712497, 'Peugeot': 0.6403212622381467, 'Renault': 0.6046639938968722, 'Subaru': 0.49301543208962517, 'Suzuki': 0.1349206349206349, 'Toyota': 0.670929214247723, 'VW - VolksWagen': 0.6382164686300204, 'Volvo': 0.7203852403459767}\n"
     ]
    }
   ],
   "source": [
    "print(\n",
    "    mean_prop_loan_real,\n",
    ")"
   ]
  },
  {
   "cell_type": "code",
   "execution_count": 6,
   "metadata": {},
   "outputs": [],
   "source": [
    "X_eda['Brand_MeanPropLoanReal_Credit'] = X_eda.apply(\n",
    "    lambda x: -1 if not mean_prop_loan_real.get(x['auto_brand']) else mean_prop_loan_real.get(x['auto_brand']), axis=1\n",
    ")\n",
    "\n",
    "X_eda['Brand_MeanIdadeCarro_Credit'] = X_eda.apply(\n",
    "    lambda x: -1 if not mean_idade_carro.get(x['auto_brand']) else mean_idade_carro.get(x['auto_brand']), axis=1\n",
    ")\n",
    "\n",
    "X_eda['Brand_MeanGarantiaReal_Credit'] = X_eda.apply(\n",
    "    lambda x: -1 if not mean_garantia_real.get(x['auto_brand']) else mean_garantia_real.get(x['auto_brand']), axis=1\n",
    ")\n",
    "\n",
    "X_eda['MeanPropLoanReal_Brand'] = X_eda.apply(lambda x: x['PropLoanReal']/x['Brand_MeanPropLoanReal_Credit'],axis=1)\n",
    "X_eda['MeanPropIdadeCarro_Brand'] = X_eda.apply(lambda x: x['IdadeCarro']/x['Brand_MeanIdadeCarro_Credit'],axis=1)\n",
    "X_eda['MeanValorGarantiaRealAuto_Brand'] = X_eda.apply(lambda x: x['ValorGarantiaRealAuto']/x['Brand_MeanGarantiaReal_Credit'],axis=1)\n",
    "\n",
    "# Classificando a marca\n",
    "X_eda['ClassMarca'] = X_eda.apply(lambda x: get_class(x['auto_brand']),axis=1)"
   ]
  },
  {
   "cell_type": "markdown",
   "metadata": {},
   "source": [
    "<br><br>\n",
    "\n",
    "<div style='text-align: center; font-family: \"Helvetica Neue\", Helvetica, Arial, sans-serif;'>\n",
    "  <span style='font-size: 30px;'>📊</span>\n",
    "  <span style='font-weight: bold; font-size: 32px; color: #3AB77A;'>Feature Engineering: Variáveis geográficas</span>\n",
    "</div>\n",
    "\n",
    "<br>\n",
    "\n",
    "<div style='text-align: center; font-family: \"Helvetica Neue\", Helvetica, Arial, sans-serif;'>\n",
    "  <span style='font-weight: bold; font-size: 25px; color: #8ADAB4;'>Contexto</span>\n",
    "</div>\n",
    "\n",
    "<p style='text-align: center; font-family: \"Helvetica Neue\", Helvetica, Arial, sans-serif; font-style: italic; color: #8ADAB4; font-size: 20px;'>\n",
    "  Construindo features relacionado a geografia do lead\n",
    "</p>"
   ]
  },
  {
   "cell_type": "code",
   "execution_count": 7,
   "metadata": {},
   "outputs": [],
   "source": [
    "df_get_info['PropLoanMonthlyIncome'] = df_get_info.apply(lambda x: x['loan_amount']/x['monthly_income'] if x['monthly_income'] > 0 else -1,axis=1)\n",
    "df_get_info['PropLoanGarantiaVeiculo'] = df_get_info.apply(lambda x: x['loan_amount']/x['collateral_value'] if x['collateral_value'] > 0 else -1,axis=1)\n",
    "df_get_info_zip_code_grouped = df_get_info.groupby('zip_code').agg(\n",
    "    count_total_cases=('zip_code','count'),\n",
    "    count_credit_cases=('target','sum'),\n",
    "    mean_loan_income_target=('PropLoanMonthlyIncome', lambda x: x[df_get_info.loc[x.index, 'target'] == 1].mean()),\n",
    "    mean_loan_collateral_target=('PropLoanGarantiaVeiculo', lambda x: x[df_get_info.loc[x.index, 'target'] == 1].mean())\n",
    ").reset_index()\n",
    "\n",
    "df_get_info_zip_code_grouped['mean_loan_income_target'] = df_get_info_zip_code_grouped['mean_loan_income_target'].fillna(-1)\n",
    "df_get_info_zip_code_grouped['mean_loan_collateral_target'] = df_get_info_zip_code_grouped['mean_loan_collateral_target'].fillna(-1)\n",
    "df_get_info_zip_code_grouped['PropHitRate'] = df_get_info_zip_code_grouped.apply(lambda x: x['count_credit_cases']/x['count_total_cases'],axis=1)\n",
    "\n",
    "\n",
    "mean_loan_income = dict(df_get_info_zip_code_grouped[['zip_code','mean_loan_income_target']].values)\n",
    "mean_loan_collateral_target = dict(df_get_info_zip_code_grouped[['zip_code','mean_loan_collateral_target']].values)\n",
    "hit_rate = dict(df_get_info_zip_code_grouped[['zip_code','PropHitRate']].values)"
   ]
  },
  {
   "cell_type": "code",
   "execution_count": 8,
   "metadata": {},
   "outputs": [],
   "source": [
    "X_eda['ZipCode_MeanPropLoanIncome_Credit'] = X_eda.apply(\n",
    "    lambda x: -1 if not mean_loan_income.get(x['zip_code']) else mean_loan_income.get(x['zip_code']), axis=1\n",
    ")\n",
    "\n",
    "X_eda['ZipCode_MeanLoanCollateralTarget_Credit'] = X_eda.apply(\n",
    "    lambda x: -1 if not mean_loan_collateral_target.get(x['zip_code']) else mean_loan_collateral_target.get(x['zip_code']), axis=1\n",
    ")\n",
    "\n",
    "X_eda['ZipCode_HitRate_Credit'] = X_eda.apply(\n",
    "    lambda x: -1 if not hit_rate.get(x['zip_code']) else hit_rate.get(x['zip_code']), axis=1\n",
    ")\n",
    "\n",
    "X_eda['MeanPropLoanMonthly_ZipCode'] = X_eda.apply(lambda x: x['PropLoanMonthlyIncome']/x['ZipCode_MeanPropLoanIncome_Credit'],axis=1)\n",
    "X_eda['MeanPropLoanGarantiaVeiculo_ZipCode'] = X_eda.apply(lambda x: x['PropLoanGarantiaVeiculo']/x['ZipCode_MeanLoanCollateralTarget_Credit'],axis=1)"
   ]
  },
  {
   "cell_type": "code",
   "execution_count": 9,
   "metadata": {},
   "outputs": [],
   "source": [
    "df_salarios = pd.read_excel('../data/salario_medio_empresas_UF.xlsx')\n",
    "\n",
    "X_eda.rename({\n",
    "    'state':'UF'\n",
    "},axis=1, inplace=True)\n",
    "\n",
    "X_eda = X_eda.merge(\n",
    "            df_salarios[['UF','salario_medio_mensal ','numero_de_empresas_atuantes']],\n",
    "            on='UF',\n",
    "            how='left'\n",
    ")\n",
    "\n",
    "X_eda['PropIncomeSalarioMedioMensal'] = X_eda.apply(lambda x: x['monthly_income']/x['salario_medio_mensal '],axis=1)"
   ]
  },
  {
   "cell_type": "code",
   "execution_count": 10,
   "metadata": {},
   "outputs": [],
   "source": [
    "df_class_purpose = pd.read_csv('../data/class_purpose.csv').drop(['Unnamed: 0'],axis=1)\n",
    "\n",
    "X_eda['id'] = X_eda['id'].astype('int64')\n",
    "X_eda = X_eda.merge(df_class_purpose[['id', 'purpose_normalized', 'ClassPurpose']], on=['id'], how='left')\n",
    "X_eda['ClassPurpose'] = X_eda.apply(lambda x: \n",
    "        'nothing' if x['purpose_normalized'] == 'nada a declarar' else x['ClassPurpose'],axis=1\n",
    ")"
   ]
  },
  {
   "cell_type": "code",
   "execution_count": 11,
   "metadata": {},
   "outputs": [],
   "source": [
    "for col in ['monthly_income', 'collateral_value', 'loan_amount', 'collateral_debt', 'monthly_payment']:\n",
    "    X_eda[col] = np.arcsinh(X_eda[col])"
   ]
  }
 ],
 "metadata": {
  "kernelspec": {
   "display_name": "base",
   "language": "python",
   "name": "python3"
  },
  "language_info": {
   "codemirror_mode": {
    "name": "ipython",
    "version": 3
   },
   "file_extension": ".py",
   "mimetype": "text/x-python",
   "name": "python",
   "nbconvert_exporter": "python",
   "pygments_lexer": "ipython3",
   "version": "3.9.7"
  }
 },
 "nbformat": 4,
 "nbformat_minor": 2
}
