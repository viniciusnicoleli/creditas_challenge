{
 "cells": [
  {
   "cell_type": "markdown",
   "metadata": {},
   "source": [
    "<div style='text-align: center; font-family: \"Helvetica Neue\", Helvetica, Arial, sans-serif;'>\n",
    "  <span style='font-size: 40px;'>🚀</span>\n",
    "  <span style='font-weight: normal; font-size: 32px; color: #3AB77A;'>Desafio Creditas -</span>\n",
    "  <span style='font-weight: bold; font-size: 32px; color: #3AB77A;'> Cientista de Dados Pleno</span>\n",
    "</div>\n",
    "<div style='text-align: center; font-family: \"Helvetica Neue\", Helvetica, Arial, sans-serif;'>\n",
    "  <span style='font-weight: normal; font-size: 19px; color: #F;'>Etapa 1: Analise da problemática</span>\n",
    "</div>\n",
    "\n",
    "<br><br>\n",
    "\n",
    "<div style='color: #3AB77A; text-align: center; font-size: 28px; font-weight: bold'>\n",
    "  <p>\n",
    "    Conteúdo desse Notebook\n",
    "  </p>\n",
    "</div>\n",
    "<div style='text-align: center; font-size: 20px;'>\n",
    "  <span style='font-size: 20px;'>✅</span>\n",
    "  <span>Alteração da tipagem de dados</p>\n",
    "</div>\n",
    "<div style='text-align: center; font-size: 20px;'>\n",
    "  <span style='font-size: 20px;'>✅</span>\n",
    "  <span>Drop duplicatas</p>\n",
    "</div>\n",
    "<div style='text-align: center; font-size: 20px;'>\n",
    "  <span style='font-size: 20px;'>✅</span>\n",
    "  <span>Drop de features específicas</p>\n",
    "</div>"
   ]
  },
  {
   "cell_type": "markdown",
   "metadata": {},
   "source": [
    "![problem](../images/problem.PNG)"
   ]
  },
  {
   "cell_type": "code",
   "execution_count": null,
   "metadata": {},
   "outputs": [],
   "source": [
    "import pandas as pd\n",
    "import numpy as np\n",
    "import sys, os\n",
    "\n",
    "sys.path.insert(0, os.path.abspath(\"..\"))\n",
    "\n",
    "pd.set_option('display.max_columns', 500)\n",
    "from utils.eda_utils import (\n",
    "    definition\n",
    ")\n",
    "\n",
    "import warnings\n",
    "warnings.filterwarnings(\"ignore\")\n",
    "\n",
    "df = pd.read_csv('../data/dataset.csv')"
   ]
  },
  {
   "cell_type": "code",
   "execution_count": 3,
   "metadata": {},
   "outputs": [
    {
     "data": {
      "text/html": [
       "<div>\n",
       "<style scoped>\n",
       "    .dataframe tbody tr th:only-of-type {\n",
       "        vertical-align: middle;\n",
       "    }\n",
       "\n",
       "    .dataframe tbody tr th {\n",
       "        vertical-align: top;\n",
       "    }\n",
       "\n",
       "    .dataframe thead th {\n",
       "        text-align: right;\n",
       "    }\n",
       "</style>\n",
       "<table border=\"1\" class=\"dataframe\">\n",
       "  <thead>\n",
       "    <tr style=\"text-align: right;\">\n",
       "      <th></th>\n",
       "      <th>id</th>\n",
       "      <th>count_duplicates</th>\n",
       "    </tr>\n",
       "  </thead>\n",
       "  <tbody>\n",
       "    <tr>\n",
       "      <th>3011</th>\n",
       "      <td>116424</td>\n",
       "      <td>2</td>\n",
       "    </tr>\n",
       "    <tr>\n",
       "      <th>3703</th>\n",
       "      <td>119061</td>\n",
       "      <td>2</td>\n",
       "    </tr>\n",
       "    <tr>\n",
       "      <th>3723</th>\n",
       "      <td>119099</td>\n",
       "      <td>2</td>\n",
       "    </tr>\n",
       "    <tr>\n",
       "      <th>3782</th>\n",
       "      <td>119186</td>\n",
       "      <td>2</td>\n",
       "    </tr>\n",
       "  </tbody>\n",
       "</table>\n",
       "</div>"
      ],
      "text/plain": [
       "          id  count_duplicates\n",
       "3011  116424                 2\n",
       "3703  119061                 2\n",
       "3723  119099                 2\n",
       "3782  119186                 2"
      ]
     },
     "metadata": {},
     "output_type": "display_data"
    }
   ],
   "source": [
    "df_analisar = df.groupby('id').agg(\n",
    "    count_duplicates=('id','count')\n",
    ").reset_index()\n",
    "\n",
    "display(df_analisar[df_analisar['count_duplicates'] > 1])\n",
    "\n",
    "# Dropando casos duplicados\n",
    "df = df.drop_duplicates(keep='first')"
   ]
  },
  {
   "cell_type": "markdown",
   "metadata": {},
   "source": [
    "<br><br>\n",
    "\n",
    "<div style='text-align: center; font-family: \"Helvetica Neue\", Helvetica, Arial, sans-serif;'>\n",
    "  <span style='font-size: 30px;'>📊</span>\n",
    "  <span style='font-weight: bold; font-size: 32px; color: #3AB77A;'>Dropando duplicatas e analisando casos redundantes</span>\n",
    "</div>\n",
    "\n",
    "<br>"
   ]
  },
  {
   "cell_type": "code",
   "execution_count": 4,
   "metadata": {},
   "outputs": [
    {
     "data": {
      "text/plain": [
       "age                     0.000057\n",
       "monthly_income          0.000057\n",
       "collateral_value        0.000600\n",
       "loan_amount             0.000086\n",
       "city                    0.000657\n",
       "state                   0.000114\n",
       "collateral_debt         0.296142\n",
       "verified_restriction    0.248165\n",
       "marital_status          0.988149\n",
       "informed_restriction    0.047120\n",
       "loan_term               1.000000\n",
       "monthly_payment         0.036611\n",
       "informed_purpose        0.031899\n",
       "auto_brand              0.000257\n",
       "auto_model              0.000314\n",
       "auto_year               0.000114\n",
       "pre_approved            0.004940\n",
       "form_completed          0.004998\n",
       "sent_to_analysis        0.004940\n",
       "channel                 0.036754\n",
       "landing_page            0.036754\n",
       "landing_page_product    0.345261\n",
       "gender                  0.112631\n",
       "utm_term                0.680013\n",
       "education_level         0.431962\n",
       "dtype: float64"
      ]
     },
     "execution_count": 4,
     "metadata": {},
     "output_type": "execute_result"
    }
   ],
   "source": [
    "df.isna().mean()[df.isna().mean() > 0]"
   ]
  },
  {
   "cell_type": "code",
   "execution_count": 5,
   "metadata": {},
   "outputs": [],
   "source": [
    "# Eliminando features com alta frequência de nulos\n",
    "\n",
    "df.drop([\n",
    "    'loan_term',\n",
    "    'marital_status'\n",
    "],axis=1, inplace=True)"
   ]
  },
  {
   "cell_type": "code",
   "execution_count": 6,
   "metadata": {},
   "outputs": [
    {
     "data": {
      "text/plain": [
       "age                         2\n",
       "monthly_income              2\n",
       "collateral_value           21\n",
       "loan_amount                 3\n",
       "city                       23\n",
       "state                       4\n",
       "collateral_debt         10370\n",
       "verified_restriction     8690\n",
       "informed_restriction     1650\n",
       "monthly_payment          1282\n",
       "informed_purpose         1117\n",
       "auto_brand                  9\n",
       "auto_model                 11\n",
       "auto_year                   4\n",
       "pre_approved              173\n",
       "form_completed            175\n",
       "sent_to_analysis          173\n",
       "channel                  1287\n",
       "landing_page             1287\n",
       "landing_page_product    12090\n",
       "gender                   3944\n",
       "utm_term                23812\n",
       "education_level         15126\n",
       "dtype: int64"
      ]
     },
     "execution_count": 6,
     "metadata": {},
     "output_type": "execute_result"
    }
   ],
   "source": [
    "# Vamos eliminar os casos de sent_to_analysis como null para mantermos apenas quem devemos predizer\n",
    "\n",
    "df.isna().sum()[df.isna().sum() > 0]"
   ]
  },
  {
   "cell_type": "code",
   "execution_count": 7,
   "metadata": {},
   "outputs": [
    {
     "data": {
      "text/plain": [
       "id                          0\n",
       "age                         2\n",
       "monthly_income              2\n",
       "collateral_value           21\n",
       "loan_amount                 3\n",
       "city                       23\n",
       "state                       4\n",
       "collateral_debt         10307\n",
       "verified_restriction     8671\n",
       "dishonored_checks           0\n",
       "expired_debts               0\n",
       "banking_debts               0\n",
       "commercial_debts            0\n",
       "protests                    0\n",
       "informed_restriction     1645\n",
       "monthly_payment          1279\n",
       "informed_purpose         1108\n",
       "auto_brand                  9\n",
       "auto_model                 11\n",
       "auto_year                   4\n",
       "pre_approved                0\n",
       "form_completed              2\n",
       "sent_to_analysis            0\n",
       "channel                  1114\n",
       "zip_code                    0\n",
       "landing_page             1114\n",
       "landing_page_product    11917\n",
       "gender                   3771\n",
       "utm_term                23639\n",
       "education_level         14953\n",
       "dtype: int64"
      ]
     },
     "execution_count": 7,
     "metadata": {},
     "output_type": "execute_result"
    }
   ],
   "source": [
    "df = df[~df['sent_to_analysis'].isna()] ; df.isna().sum()"
   ]
  },
  {
   "cell_type": "code",
   "execution_count": 8,
   "metadata": {},
   "outputs": [
    {
     "data": {
      "text/plain": [
       "id                          0\n",
       "age                         0\n",
       "monthly_income              0\n",
       "collateral_value            0\n",
       "loan_amount                 0\n",
       "city                        0\n",
       "state                       0\n",
       "collateral_debt         10302\n",
       "verified_restriction        0\n",
       "dishonored_checks           0\n",
       "expired_debts               0\n",
       "banking_debts               0\n",
       "commercial_debts            0\n",
       "protests                    0\n",
       "informed_restriction     1598\n",
       "monthly_payment          1236\n",
       "informed_purpose         1097\n",
       "auto_brand                  0\n",
       "auto_model                  0\n",
       "auto_year                   0\n",
       "pre_approved                0\n",
       "form_completed              0\n",
       "sent_to_analysis            0\n",
       "channel                  1110\n",
       "zip_code                    0\n",
       "landing_page             1110\n",
       "landing_page_product    11877\n",
       "gender                   3724\n",
       "utm_term                23592\n",
       "education_level         14926\n",
       "dtype: int64"
      ]
     },
     "execution_count": 8,
     "metadata": {},
     "output_type": "execute_result"
    }
   ],
   "source": [
    "df = df[\n",
    "    (~df['collateral_value'].isna()) &\n",
    "    (~df['auto_model'].isna()) &\n",
    "    (~df['city'].isna())\n",
    "]\n",
    "\n",
    "df['verified_restriction'] = df['verified_restriction'].fillna(-1); df.isna().sum()"
   ]
  },
  {
   "cell_type": "markdown",
   "metadata": {},
   "source": [
    "<br><br>\n",
    "\n",
    "<div style='text-align: center; font-family: \"Helvetica Neue\", Helvetica, Arial, sans-serif;'>\n",
    "  <span style='font-size: 30px;'>📊</span>\n",
    "  <span style='font-weight: bold; font-size: 32px; color: #3AB77A;'>Salvando o dataset bronze</span>\n",
    "</div>\n",
    "\n",
    "<br>"
   ]
  },
  {
   "cell_type": "code",
   "execution_count": 9,
   "metadata": {},
   "outputs": [],
   "source": [
    "df.to_csv('../data/bronze_dataset.csv')"
   ]
  }
 ],
 "metadata": {
  "kernelspec": {
   "display_name": "base",
   "language": "python",
   "name": "python3"
  },
  "language_info": {
   "codemirror_mode": {
    "name": "ipython",
    "version": 3
   },
   "file_extension": ".py",
   "mimetype": "text/x-python",
   "name": "python",
   "nbconvert_exporter": "python",
   "pygments_lexer": "ipython3",
   "version": "3.9.7"
  }
 },
 "nbformat": 4,
 "nbformat_minor": 2
}
